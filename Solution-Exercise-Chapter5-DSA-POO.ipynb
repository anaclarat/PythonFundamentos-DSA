{
 "cells": [
  {
   "cell_type": "markdown",
   "metadata": {},
   "source": [
    "# <font color='blue'>Data Science Academy - Python Fundamentos - Capítulo 5</font>\n",
    "\n",
    "## Download: http://github.com/dsacademybr"
   ]
  },
  {
   "cell_type": "markdown",
   "metadata": {},
   "source": [
    "## Exercícios"
   ]
  },
  {
   "cell_type": "code",
   "execution_count": 44,
   "metadata": {},
   "outputs": [],
   "source": [
    "# Exercício 1 - Crie um objeto a partir da classe abaixo, chamado roc1, passando 2 parâmetros e depois faça \n",
    "#uma chamada aos atributos e métodos\n",
    "from math import sqrt\n",
    "\n",
    "class Rocket():\n",
    "     \n",
    "    def __init__(self, x=0, y=0):\n",
    "        self.x = x\n",
    "        self.y = y\n",
    "        self.origin_x = x\n",
    "        self.origin_y = y\n",
    "        \n",
    "        print('A pedra está na posição:',x,',',y)\n",
    "    \n",
    "    def move_rocket(self,x,y):\n",
    "        self.x += x\n",
    "        self.y += y\n",
    "        \n",
    "        print('A pedra está na posição:',self.x,',',self.y)\n",
    "        \n",
    "    def __str__(self):\n",
    "        return('A posição original da pedra é: %s ,%s \\\n",
    "e a posição final da pedra é: %s, %s.' %(self.origin_x,self.origin_y,self.x,self.y))\n",
    "        \n",
    "        \n",
    "        "
   ]
  },
  {
   "cell_type": "code",
   "execution_count": 45,
   "metadata": {},
   "outputs": [
    {
     "name": "stdout",
     "output_type": "stream",
     "text": [
      "A pedra está na posição: 7 , 3\n",
      "A pedra está na posição: 10 , 4\n",
      "A posição original da pedra é: 7 ,3 e a posição final da pedra é: 10, 4.\n"
     ]
    }
   ],
   "source": [
    "roc1 = Rocket(7,3)\n",
    "\n",
    "roc1.move_rocket(3,1)\n",
    "\n",
    "print(roc1)\n"
   ]
  },
  {
   "cell_type": "code",
   "execution_count": 52,
   "metadata": {},
   "outputs": [
    {
     "name": "stdout",
     "output_type": "stream",
     "text": [
      "Objeto Ana Clara criado\n",
      "Ana Clara nasceu no Rio de Janeiro, telefone: 995698697 e email: anaclarat@gmail.com \n"
     ]
    }
   ],
   "source": [
    "# Exercício 2 - Crie uma classe chamada Pessoa() com os atributos: nome, cidade, telefone e e-mail. Use pelo \n",
    "# menos 2 métodos especiais na sua classe. Crie um objeto da sua classe e faça uma chamada a pelo menos um \n",
    "# dos seus métodos especiais.\n",
    "\n",
    "class Pessoa():\n",
    "    def __init__(self,nome,cidade,telefone,email):\n",
    "        self.nome = nome\n",
    "        self.cidade = cidade\n",
    "        self.telefone = telefone\n",
    "        self.email = email\n",
    "        print(\"Objeto %s criado\" %(nome))\n",
    "    def __str__(self):\n",
    "        return \"%s nasceu no %s, telefone: %s e email: %s \"\\\n",
    "    %(self.nome, self.cidade, self.telefone, self.email)\n",
    "    \n",
    "Ana = Pessoa('Ana Clara','Rio de Janeiro',995698697,'anaclarat@gmail.com')\n",
    "print(Ana)\n",
    "    "
   ]
  },
  {
   "cell_type": "code",
   "execution_count": null,
   "metadata": {},
   "outputs": [],
   "source": [
    "# Exercício 3 - Crie a classe Smartphone com 2 atributos, tamanho e interface e crie a classe MP3Player com os \n",
    "# atributos capacidade. A classe MP3player deve herdar os atributos da classe Smartphone.\n",
    "\n",
    "class Smartphone():\n",
    "    def __init__(self,tamanho,interface):\n",
    "        self.tamanho = tamanho\n",
    "        self.interface = interface\n",
    "        print('Smartphone criado') \n",
    "        \n",
    "class MP3Player(Smartphone):\n",
    "    def __init__(self,capacidade,tamanho,interface):\n",
    "        self.capacidade = capacidade\n",
    "        Smartphone.__init__(self,tamanho,interface)\n",
    "        print('MP3 criado, com capacidade de %s GB, tamanho %s e interface %s' \\\n",
    "              %(self.capacidade,self.tamanho,self.interface))\n",
    "        \n",
    "       \n",
    "MP3 = MP3Player(200,\"pequeno\",\"IOS\")"
   ]
  },
  {
   "cell_type": "markdown",
   "metadata": {},
   "source": [
    "### FIM"
   ]
  },
  {
   "cell_type": "markdown",
   "metadata": {},
   "source": [
    "### Obrigado - Data Science Academy - <a href=\"http://facebook.com/dsacademybr\">facebook.com/dsacademybr</a>"
   ]
  }
 ],
 "metadata": {
  "kernelspec": {
   "display_name": "Python 3",
   "language": "python",
   "name": "python3"
  },
  "language_info": {
   "codemirror_mode": {
    "name": "ipython",
    "version": 3
   },
   "file_extension": ".py",
   "mimetype": "text/x-python",
   "name": "python",
   "nbconvert_exporter": "python",
   "pygments_lexer": "ipython3",
   "version": "3.6.9"
  }
 },
 "nbformat": 4,
 "nbformat_minor": 1
}
