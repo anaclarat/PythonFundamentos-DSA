{
 "cells": [
  {
   "cell_type": "code",
   "execution_count": 3,
   "metadata": {},
   "outputs": [
    {
     "name": "stdout",
     "output_type": "stream",
     "text": [
      "****************************Python Calculator****************************\n",
      "Digite o número da operação desejada: \n",
      "1 - Soma\n",
      "2 - Subtração\n",
      "3 - Multiplicação\n",
      "4 - Divisão\n",
      "3\n",
      "Digite o primeiro número: 5\n",
      "Digite o segundo número: 3\n"
     ]
    },
    {
     "data": {
      "text/plain": [
       "('O resultado da multiplicação de 5 por 3 é:', 15)"
      ]
     },
     "execution_count": 3,
     "metadata": {},
     "output_type": "execute_result"
    }
   ],
   "source": [
    "print('****************************Python Calculator****************************')\n",
    "\n",
    "def calculator():\n",
    "    \n",
    "    oper  = int(input('Digite o número da operação desejada: \\n1 - Soma\\n2 - Subtração\\n3 - Multiplicação\\n4 - Divisão\\n'))\n",
    "    n1 = int(input('Digite o primeiro número: '))\n",
    "    n2 = int(input('Digite o segundo número: '))\n",
    "\n",
    "\n",
    "    if oper == 1:\n",
    "        return print('O resultado da soma de %s por %r é:'%(n1,n2),n1 + n2)\n",
    "    elif oper == 2:\n",
    "        return 'O resultado da subtração de %s por %r é:'%(n1,n2),n1 - n2\n",
    "    elif oper == 3:\n",
    "        return 'O resultado da multiplicação de %s por %r é:'%(n1,n2),n1 * n2\n",
    "    elif oper == 4:\n",
    "        return 'O resultado da divisão de %s por %r é:'%(n1,n2), n1 / n2 \n",
    "    else:\n",
    "        return 'Operação inválida!'\n",
    "    \n",
    "calculator()"
   ]
  },
  {
   "cell_type": "code",
   "execution_count": null,
   "metadata": {},
   "outputs": [],
   "source": []
  }
 ],
 "metadata": {
  "kernelspec": {
   "display_name": "Python 3",
   "language": "python",
   "name": "python3"
  },
  "language_info": {
   "codemirror_mode": {
    "name": "ipython",
    "version": 3
   },
   "file_extension": ".py",
   "mimetype": "text/x-python",
   "name": "python",
   "nbconvert_exporter": "python",
   "pygments_lexer": "ipython3",
   "version": "3.6.9"
  }
 },
 "nbformat": 4,
 "nbformat_minor": 2
}
